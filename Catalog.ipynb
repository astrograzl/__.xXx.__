{
 "cells": [
  {
   "cell_type": "code",
   "execution_count": 1,
   "metadata": {},
   "outputs": [],
   "source": [
    "import pandas as pd\n",
    "from sqlalchemy import create_engine"
   ]
  },
  {
   "cell_type": "code",
   "execution_count": 2,
   "metadata": {},
   "outputs": [],
   "source": [
    "eng = create_engine(\"sqlite:///lamost.db4\")"
   ]
  },
  {
   "cell_type": "code",
   "execution_count": 14,
   "metadata": {},
   "outputs": [],
   "source": [
    "def chunky(data, table, n=100, k=1000):\n",
    "    \"\"\"Save data into database\"\"\"\n",
    "    N = len(data)\n",
    "    Nk = N % k\n",
    "    for i in range(Nk):\n",
    "        sub = data[i*Nk:(i+1)*Nk]\n",
    "        sub.to_sql(table, eng,\n",
    "                   if_exists=\"append\",\n",
    "                   chunksize=n)\n",
    "        print(\".\", end=\"\", flush=True)\n",
    "        if i % 100 == 0: print(\"\", flush=True)\n",
    "    fin = data[Nk:]\n",
    "    fin.to_sql(table, eng,\n",
    "               if_exists=\"append\",\n",
    "               chunksize=n)\n",
    "    print(\"!\", end=\"\\n\", flush=True)\n",
    "    return"
   ]
  },
  {
   "cell_type": "markdown",
   "metadata": {},
   "source": [
    "## Plan"
   ]
  },
  {
   "cell_type": "code",
   "execution_count": 5,
   "metadata": {},
   "outputs": [
    {
     "name": "stdout",
     "output_type": "stream",
     "text": [
      "386 ms ± 30.4 ms per loop (mean ± std. dev. of 7 runs, 1 loop each)\n"
     ]
    }
   ],
   "source": [
    "%%timeit\n",
    "plan = pd.read_csv(\"catalog/dr4_v2_plan.csv.gz\",\n",
    "                   sep=\"|\", na_values=[-9999.00, \"NULL\", 99.0],\n",
    "                   low_memory=False)\n",
    "plan.to_sql(\"plan\", eng, if_exists=\"replace\")"
   ]
  },
  {
   "cell_type": "markdown",
   "metadata": {},
   "source": [
    "## A Stars"
   ]
  },
  {
   "cell_type": "code",
   "execution_count": 6,
   "metadata": {},
   "outputs": [
    {
     "name": "stdout",
     "output_type": "stream",
     "text": [
      "CPU times: user 23.6 s, sys: 948 ms, total: 24.6 s\n",
      "Wall time: 21.3 s\n"
     ]
    }
   ],
   "source": [
    "%%time\n",
    "astar = pd.read_csv(\"catalog/dr4_v2_a_stellar.csv.gz\",\n",
    "                   sep=\"|\", na_values=[-9999.00, \"NULL\", 99.0],\n",
    "                   low_memory=False)\n",
    "astar.to_sql(\"astar\", eng, if_exists=\"replace\")"
   ]
  },
  {
   "cell_type": "code",
   "execution_count": 7,
   "metadata": {},
   "outputs": [],
   "source": [
    "del astar"
   ]
  },
  {
   "cell_type": "markdown",
   "metadata": {},
   "source": [
    "## M Stars"
   ]
  },
  {
   "cell_type": "code",
   "execution_count": 8,
   "metadata": {},
   "outputs": [],
   "source": [
    "mstar = pd.read_csv(\"catalog/dr4_v2_m_stellar.csv.gz\",\n",
    "                   sep=\"|\", na_values=[-9999.00, \"NULL\", 99.0],\n",
    "                   low_memory=False)"
   ]
  },
  {
   "cell_type": "code",
   "execution_count": 9,
   "metadata": {},
   "outputs": [],
   "source": [
    "mstar.to_sql(\"mstar\", eng, if_exists=\"replace\")"
   ]
  },
  {
   "cell_type": "code",
   "execution_count": 10,
   "metadata": {},
   "outputs": [],
   "source": [
    "del mstar"
   ]
  },
  {
   "cell_type": "markdown",
   "metadata": {},
   "source": [
    "## All Stars"
   ]
  },
  {
   "cell_type": "code",
   "execution_count": 11,
   "metadata": {},
   "outputs": [],
   "source": [
    "star = pd.read_csv(\"catalog/dr4_v2_stellar.csv.gz\",\n",
    "                   sep=\"|\", na_values=[-9999.00, \"NULL\", 99.00],\n",
    "                   low_memory=False)"
   ]
  },
  {
   "cell_type": "code",
   "execution_count": 12,
   "metadata": {},
   "outputs": [
    {
     "name": "stdout",
     "output_type": "stream",
     "text": [
      "....................................................................................................................................................................................................................................................................................................................................................................................................................................................!\n"
     ]
    }
   ],
   "source": [
    "chunky(star, \"star\")"
   ]
  },
  {
   "cell_type": "code",
   "execution_count": 13,
   "metadata": {},
   "outputs": [],
   "source": [
    "del star"
   ]
  },
  {
   "cell_type": "markdown",
   "metadata": {},
   "source": [
    "## Alls Others"
   ]
  },
  {
   "cell_type": "code",
   "execution_count": 15,
   "metadata": {},
   "outputs": [],
   "source": [
    "alls = pd.read_csv(\"catalog/dr4_v2.csv.gz\",\n",
    "                   sep=\"|\", na_values=[-9999.00, \"NULL\", 99.00],\n",
    "                   low_memory=False)"
   ]
  },
  {
   "cell_type": "code",
   "execution_count": 16,
   "metadata": {
    "scrolled": true
   },
   "outputs": [
    {
     "name": "stdout",
     "output_type": "stream",
     "text": [
      ".\n",
      "....................................................................................................\n",
      "....................................................................................................\n",
      "....................................................................................................\n",
      "....................................................................................................\n",
      "....................................................................................................\n",
      "....................................................................................................\n",
      "...........!\n"
     ]
    }
   ],
   "source": [
    "chunky(alls, \"alls\")"
   ]
  },
  {
   "cell_type": "code",
   "execution_count": 17,
   "metadata": {},
   "outputs": [],
   "source": [
    "del alls"
   ]
  },
  {
   "cell_type": "code",
   "execution_count": 18,
   "metadata": {},
   "outputs": [
    {
     "name": "stdout",
     "output_type": "stream",
     "text": [
      "Done!\n"
     ]
    }
   ],
   "source": [
    "print(\"Done!\")"
   ]
  }
 ],
 "metadata": {
  "kernelspec": {
   "display_name": "Python 3",
   "language": "python",
   "name": "python3"
  },
  "language_info": {
   "codemirror_mode": {
    "name": "ipython",
    "version": 3
   },
   "file_extension": ".py",
   "mimetype": "text/x-python",
   "name": "python",
   "nbconvert_exporter": "python",
   "pygments_lexer": "ipython3",
   "version": "3.7.3"
  }
 },
 "nbformat": 4,
 "nbformat_minor": 2
}
