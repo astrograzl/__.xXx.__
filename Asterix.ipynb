{
 "cells": [
  {
   "cell_type": "code",
   "execution_count": 1,
   "metadata": {},
   "outputs": [
    {
     "name": "stderr",
     "output_type": "stream",
     "text": [
      "Using TensorFlow backend.\n"
     ]
    }
   ],
   "source": [
    "from keras.models import Sequential, Model\n",
    "from keras.layers import InputLayer, Conv2D, MaxPooling2D,\\\n",
    "                         Flatten, Dropout, Dense, Reshape\n",
    "from keras.layers.advanced_activations import LeakyReLU"
   ]
  },
  {
   "cell_type": "code",
   "execution_count": 2,
   "metadata": {
    "collapsed": true
   },
   "outputs": [],
   "source": [
    "def obelix():\n",
    "    while True:\n",
    "        pass"
   ]
  },
  {
   "cell_type": "code",
   "execution_count": 3,
   "metadata": {},
   "outputs": [
    {
     "data": {
      "text/plain": [
       "65536"
      ]
     },
     "execution_count": 3,
     "metadata": {},
     "output_type": "execute_result"
    }
   ],
   "source": [
    "256**2"
   ]
  },
  {
   "cell_type": "code",
   "execution_count": 22,
   "metadata": {
    "collapsed": true
   },
   "outputs": [],
   "source": [
    "def new_model(name=\"Asterix\"):\n",
    "    \"\"\"Model definition\"\"\"\n",
    "    model = Sequential(name=name)\n",
    "    model.add(InputLayer((256, 256, 16), name=\"Input\"))    \n",
    "    model.add(Conv2D(8, (13,13), name=\"Conv1\"))\n",
    "    model.add(MaxPooling2D((2,2), name=\"Max1\"))\n",
    "    model.add(LeakyReLU(name=\"LeReLU1\"))\n",
    "    model.add(Conv2D(16, (9,9), name=\"Conv2\"))\n",
    "    model.add(MaxPooling2D((2,2), name=\"Max2\"))\n",
    "    model.add(LeakyReLU(name=\"LeReLU2\"))\n",
    "    model.add(Conv2D(24, (5,5), name=\"Conv3\"))\n",
    "    model.add(MaxPooling2D((2,2), name=\"Max3\"))\n",
    "    model.add(LeakyReLU(name=\"LeReLU3\"))\n",
    "    model.add(Conv2D(32, (3,3), name=\"Conv4\"))\n",
    "    model.add(MaxPooling2D((2,2), name=\"Max4\"))\n",
    "    model.add(LeakyReLU(name=\"LeReLU4\"))\n",
    "    model.add(Conv2D(48, (1,1), name=\"Conv5\"))\n",
    "    model.add(MaxPooling2D((2,2), name=\"Max5\"))\n",
    "    model.add(LeakyReLU(name=\"LeReLU5\"))\n",
    "    model.add(Flatten(name=\"Flat\"))\n",
    "    model.add(Dropout(0.8, name=\"Dropout\"))\n",
    "    model.add(Dense(1024, activation=\"tanh\", name=\"Dense\"))\n",
    "    model.add(Dense(192, activation=\"tanh\", name=\"Hid1\"))\n",
    "    model.add(Dense(96, activation=\"tanh\", name=\"Hid2\"))\n",
    "    model.add(Dense(8, activation=\"tanh\", name=\"Output\"))\n",
    "    return model"
   ]
  },
  {
   "cell_type": "code",
   "execution_count": 23,
   "metadata": {},
   "outputs": [
    {
     "name": "stdout",
     "output_type": "stream",
     "text": [
      "_________________________________________________________________\n",
      "Layer (type)                 Output Shape              Param #   \n",
      "=================================================================\n",
      "Input (InputLayer)           (None, 256, 256, 16)      0         \n",
      "_________________________________________________________________\n",
      "Conv1 (Conv2D)               (None, 244, 244, 8)       21640     \n",
      "_________________________________________________________________\n",
      "Max1 (MaxPooling2D)          (None, 122, 122, 8)       0         \n",
      "_________________________________________________________________\n",
      "LeReLU1 (LeakyReLU)          (None, 122, 122, 8)       0         \n",
      "_________________________________________________________________\n",
      "Conv2 (Conv2D)               (None, 114, 114, 16)      10384     \n",
      "_________________________________________________________________\n",
      "Max2 (MaxPooling2D)          (None, 57, 57, 16)        0         \n",
      "_________________________________________________________________\n",
      "LeReLU2 (LeakyReLU)          (None, 57, 57, 16)        0         \n",
      "_________________________________________________________________\n",
      "Conv3 (Conv2D)               (None, 53, 53, 24)        9624      \n",
      "_________________________________________________________________\n",
      "Max3 (MaxPooling2D)          (None, 26, 26, 24)        0         \n",
      "_________________________________________________________________\n",
      "LeReLU3 (LeakyReLU)          (None, 26, 26, 24)        0         \n",
      "_________________________________________________________________\n",
      "Conv4 (Conv2D)               (None, 24, 24, 32)        6944      \n",
      "_________________________________________________________________\n",
      "Max4 (MaxPooling2D)          (None, 12, 12, 32)        0         \n",
      "_________________________________________________________________\n",
      "LeReLU4 (LeakyReLU)          (None, 12, 12, 32)        0         \n",
      "_________________________________________________________________\n",
      "Conv5 (Conv2D)               (None, 12, 12, 48)        1584      \n",
      "_________________________________________________________________\n",
      "Max5 (MaxPooling2D)          (None, 6, 6, 48)          0         \n",
      "_________________________________________________________________\n",
      "LeReLU5 (LeakyReLU)          (None, 6, 6, 48)          0         \n",
      "_________________________________________________________________\n",
      "Flat (Flatten)               (None, 1728)              0         \n",
      "_________________________________________________________________\n",
      "Dropout (Dropout)            (None, 1728)              0         \n",
      "_________________________________________________________________\n",
      "Dense (Dense)                (None, 1024)              1770496   \n",
      "_________________________________________________________________\n",
      "Hid1 (Dense)                 (None, 192)               196800    \n",
      "_________________________________________________________________\n",
      "Hid2 (Dense)                 (None, 96)                18528     \n",
      "_________________________________________________________________\n",
      "Output (Dense)               (None, 8)                 776       \n",
      "=================================================================\n",
      "Total params: 2,036,776\n",
      "Trainable params: 2,036,776\n",
      "Non-trainable params: 0\n",
      "_________________________________________________________________\n"
     ]
    }
   ],
   "source": [
    "MODEL = new_model()\n",
    "MODEL.summary()"
   ]
  },
  {
   "cell_type": "code",
   "execution_count": 24,
   "metadata": {},
   "outputs": [
    {
     "ename": "KeyboardInterrupt",
     "evalue": "",
     "output_type": "error",
     "traceback": [
      "\u001b[0;31m---------------------------------------------------------------------------\u001b[0m",
      "\u001b[0;31mKeyboardInterrupt\u001b[0m                         Traceback (most recent call last)",
      "\u001b[0;32m<ipython-input-24-ea5075e5242b>\u001b[0m in \u001b[0;36m<module>\u001b[0;34m()\u001b[0m\n\u001b[1;32m      1\u001b[0m \u001b[0mMODEL\u001b[0m\u001b[0;34m.\u001b[0m\u001b[0mcompile\u001b[0m\u001b[0;34m(\u001b[0m\u001b[0moptimizer\u001b[0m\u001b[0;34m=\u001b[0m\u001b[0;34m\"sgd\"\u001b[0m\u001b[0;34m,\u001b[0m \u001b[0mloss\u001b[0m\u001b[0;34m=\u001b[0m\u001b[0;34m\"mse\"\u001b[0m\u001b[0;34m,\u001b[0m \u001b[0mmetrics\u001b[0m\u001b[0;34m=\u001b[0m\u001b[0;34m[\u001b[0m\u001b[0;34m'accuracy'\u001b[0m\u001b[0;34m]\u001b[0m\u001b[0;34m)\u001b[0m\u001b[0;34m\u001b[0m\u001b[0m\n\u001b[0;32m----> 2\u001b[0;31m MODEL.fit_generator(obelix(), steps_per_epoch=128, epochs=1,\n\u001b[0m\u001b[1;32m      3\u001b[0m                     validation_data=obelix(), validation_steps=48)\n",
      "\u001b[0;32m<ipython-input-2-4a62efc7d153>\u001b[0m in \u001b[0;36mobelix\u001b[0;34m()\u001b[0m\n\u001b[1;32m      1\u001b[0m \u001b[0;32mdef\u001b[0m \u001b[0mobelix\u001b[0m\u001b[0;34m(\u001b[0m\u001b[0;34m)\u001b[0m\u001b[0;34m:\u001b[0m\u001b[0;34m\u001b[0m\u001b[0m\n\u001b[1;32m      2\u001b[0m     \u001b[0;32mwhile\u001b[0m \u001b[0;32mTrue\u001b[0m\u001b[0;34m:\u001b[0m\u001b[0;34m\u001b[0m\u001b[0m\n\u001b[0;32m----> 3\u001b[0;31m         \u001b[0;32mpass\u001b[0m\u001b[0;34m\u001b[0m\u001b[0m\n\u001b[0m",
      "\u001b[0;31mKeyboardInterrupt\u001b[0m: "
     ]
    }
   ],
   "source": [
    "MODEL.compile(optimizer=\"sgd\", loss=\"mse\", metrics=['accuracy'])\n",
    "MODEL.fit_generator(obelix(), steps_per_epoch=128, epochs=1,\n",
    "                    validation_data=obelix(), validation_steps=48)"
   ]
  },
  {
   "cell_type": "code",
   "execution_count": null,
   "metadata": {
    "collapsed": true
   },
   "outputs": [],
   "source": []
  }
 ],
 "metadata": {
  "kernelspec": {
   "display_name": "Python 3",
   "language": "python",
   "name": "python3"
  },
  "language_info": {
   "codemirror_mode": {
    "name": "ipython",
    "version": 3
   },
   "file_extension": ".py",
   "mimetype": "text/x-python",
   "name": "python",
   "nbconvert_exporter": "python",
   "pygments_lexer": "ipython3",
   "version": "3.7.3"
  }
 },
 "nbformat": 4,
 "nbformat_minor": 2
}
