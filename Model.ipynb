{
 "cells": [
  {
   "cell_type": "code",
   "execution_count": 2,
   "metadata": {},
   "outputs": [
    {
     "name": "stderr",
     "output_type": "stream",
     "text": [
      "Using TensorFlow backend.\n"
     ]
    }
   ],
   "source": [
    "from keras.models import Sequential\n",
    "from keras.layers import InputLayer, Activation, Conv2D, MaxPooling2D, Flatten, Dropout, Dense\n",
    "from keras.layers.advanced_activations import LeakyReLU\n",
    "from keras.optimizers import SGD, RMSprop, Adagrad, Adam\n",
    "from tensorflow import device\n",
    "from castor import director"
   ]
  },
  {
   "cell_type": "markdown",
   "metadata": {},
   "source": [
    "## Model"
   ]
  },
  {
   "cell_type": "code",
   "execution_count": 3,
   "metadata": {},
   "outputs": [],
   "source": [
    "NAME = \"pollux\""
   ]
  },
  {
   "cell_type": "code",
   "execution_count": 4,
   "metadata": {},
   "outputs": [],
   "source": [
    "def new_model(name=NAME):\n",
    "    \"\"\"Model definition\"\"\"\n",
    "    model = Sequential(name=name)\n",
    "    model.add(InputLayer((64,64,1), name=\"Input0\"))\n",
    "\n",
    "    model.add(Conv2D(8, (9,9), name=\"Conv0\", input_shape=(64,64,1)))\n",
    "    model.add(LeakyReLU(name=\"LeReLU0\"))\n",
    "    model.add(MaxPooling2D((2,2), padding=\"same\", name=\"Max0\"))\n",
    "    \n",
    "    model.add(Conv2D(16, (7,7), name=\"Conv1\"))\n",
    "    model.add(LeakyReLU(name=\"LeReLU1\"))\n",
    "    model.add(MaxPooling2D((2,2), padding=\"same\", name=\"Max1\"))\n",
    "    \n",
    "    model.add(Conv2D(32, (5,5), name=\"Conv2\"))\n",
    "    model.add(LeakyReLU(name=\"LeReLU2\"))\n",
    "    model.add(MaxPooling2D((2,2), padding=\"same\", name=\"Max2\"))\n",
    "    \n",
    "    model.add(Flatten(name=\"Flat\"))\n",
    "    \n",
    "    model.add(Dropout(0.2, name=\"Dropout\"))    \n",
    "    \n",
    "    model.add(Dense(512, activation=\"tanh\"))\n",
    "    model.add(Dense(128, activation=\"tanh\"))\n",
    "    model.add(Dense(32, activation=\"tanh\"))\n",
    "    model.add(Dense(3, activation=\"linear\"))\n",
    "    return model"
   ]
  },
  {
   "cell_type": "code",
   "execution_count": 5,
   "metadata": {
    "scrolled": false
   },
   "outputs": [
    {
     "name": "stdout",
     "output_type": "stream",
     "text": [
      "WARNING:tensorflow:From /usr/lib/python3.7/site-packages/tensorflow/python/framework/op_def_library.py:263: colocate_with (from tensorflow.python.framework.ops) is deprecated and will be removed in a future version.\n",
      "Instructions for updating:\n",
      "Colocations handled automatically by placer.\n",
      "WARNING:tensorflow:From /home/janak/.local/lib/python3.7/site-packages/keras/backend/tensorflow_backend.py:3445: calling dropout (from tensorflow.python.ops.nn_ops) with keep_prob is deprecated and will be removed in a future version.\n",
      "Instructions for updating:\n",
      "Please use `rate` instead of `keep_prob`. Rate should be set to `rate = 1 - keep_prob`.\n",
      "_________________________________________________________________\n",
      "Layer (type)                 Output Shape              Param #   \n",
      "=================================================================\n",
      "Conv0 (Conv2D)               (None, 56, 56, 8)         656       \n",
      "_________________________________________________________________\n",
      "LeReLU0 (LeakyReLU)          (None, 56, 56, 8)         0         \n",
      "_________________________________________________________________\n",
      "Max0 (MaxPooling2D)          (None, 28, 28, 8)         0         \n",
      "_________________________________________________________________\n",
      "Conv1 (Conv2D)               (None, 22, 22, 16)        6288      \n",
      "_________________________________________________________________\n",
      "LeReLU1 (LeakyReLU)          (None, 22, 22, 16)        0         \n",
      "_________________________________________________________________\n",
      "Max1 (MaxPooling2D)          (None, 11, 11, 16)        0         \n",
      "_________________________________________________________________\n",
      "Conv2 (Conv2D)               (None, 7, 7, 32)          12832     \n",
      "_________________________________________________________________\n",
      "LeReLU2 (LeakyReLU)          (None, 7, 7, 32)          0         \n",
      "_________________________________________________________________\n",
      "Max2 (MaxPooling2D)          (None, 4, 4, 32)          0         \n",
      "_________________________________________________________________\n",
      "Flat (Flatten)               (None, 512)               0         \n",
      "_________________________________________________________________\n",
      "Dropout (Dropout)            (None, 512)               0         \n",
      "_________________________________________________________________\n",
      "dense_1 (Dense)              (None, 512)               262656    \n",
      "_________________________________________________________________\n",
      "dense_2 (Dense)              (None, 128)               65664     \n",
      "_________________________________________________________________\n",
      "dense_3 (Dense)              (None, 32)                4128      \n",
      "_________________________________________________________________\n",
      "dense_4 (Dense)              (None, 3)                 99        \n",
      "=================================================================\n",
      "Total params: 352,323\n",
      "Trainable params: 352,323\n",
      "Non-trainable params: 0\n",
      "_________________________________________________________________\n"
     ]
    }
   ],
   "source": [
    "MODEL = new_model(NAME)\n",
    "MODEL.summary()"
   ]
  },
  {
   "cell_type": "code",
   "execution_count": 6,
   "metadata": {},
   "outputs": [],
   "source": [
    "MODEL.compile(optimizer=\"sgd\", loss=\"mse\", metrics=['accuracy'])"
   ]
  },
  {
   "cell_type": "code",
   "execution_count": 7,
   "metadata": {},
   "outputs": [
    {
     "name": "stdout",
     "output_type": "stream",
     "text": [
      "WARNING:tensorflow:From /usr/lib/python3.7/site-packages/tensorflow/python/ops/math_ops.py:3066: to_int32 (from tensorflow.python.ops.math_ops) is deprecated and will be removed in a future version.\n",
      "Instructions for updating:\n",
      "Use tf.cast instead.\n",
      "Epoch 1/1\n",
      "128/128 [==============================] - 1s 9ms/step - loss: 1.5995 - acc: 0.5156 - val_loss: 1.5452 - val_acc: 0.3750\n"
     ]
    }
   ],
   "source": [
    "with device('/cpu:0'):\n",
    "    MODEL.fit_generator(director(\"train\", NAME),\n",
    "                        steps_per_epoch=128, epochs=1,\n",
    "                        validation_data=director(\"tests\", NAME),\n",
    "                        validation_steps=48)"
   ]
  },
  {
   "cell_type": "code",
   "execution_count": 8,
   "metadata": {},
   "outputs": [],
   "source": [
    "MODEL.save(NAME+\".h5\")"
   ]
  },
  {
   "cell_type": "raw",
   "metadata": {},
   "source": [
    "!optirun python Mozek.py <NAME>"
   ]
  }
 ],
 "metadata": {
  "kernelspec": {
   "display_name": "Python 3",
   "language": "python",
   "name": "python3"
  },
  "language_info": {
   "codemirror_mode": {
    "name": "ipython",
    "version": 3
   },
   "file_extension": ".py",
   "mimetype": "text/x-python",
   "name": "python",
   "nbconvert_exporter": "python",
   "pygments_lexer": "ipython3",
   "version": "3.7.3"
  }
 },
 "nbformat": 4,
 "nbformat_minor": 2
}
