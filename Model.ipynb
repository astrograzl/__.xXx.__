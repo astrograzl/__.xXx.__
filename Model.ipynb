{
 "cells": [
  {
   "cell_type": "code",
   "execution_count": 1,
   "metadata": {},
   "outputs": [
    {
     "name": "stderr",
     "output_type": "stream",
     "text": [
      "Using TensorFlow backend.\n"
     ]
    }
   ],
   "source": [
    "from keras.models import Sequential\n",
    "from keras.layers import InputLayer, Conv2D, MaxPooling2D, Flatten, Dropout, Dense\n",
    "from keras.layers.advanced_activations import LeakyReLU\n",
    "from keras.utils import plot_model\n",
    "from tensorflow import device\n",
    "from castor import director"
   ]
  },
  {
   "cell_type": "markdown",
   "metadata": {},
   "source": [
    "## Model"
   ]
  },
  {
   "cell_type": "code",
   "execution_count": 2,
   "metadata": {
    "collapsed": true
   },
   "outputs": [],
   "source": [
    "def new_model(name=\"Model\"):\n",
    "    \"\"\"Model definition\"\"\"\n",
    "    model = Sequential(name=name)\n",
    "    model.add(InputLayer((62, 62, 1), name=\"Input0\"))    \n",
    "    model.add(Conv2D(16, (7,7), name=\"Conv1\"))\n",
    "    model.add(LeakyReLU(name=\"LeReLU1\"))\n",
    "    model.add(MaxPooling2D((3,3), padding=\"same\", name=\"Max1\"))   \n",
    "    model.add(Conv2D(32, (5,5), name=\"Conv2\"))\n",
    "    model.add(LeakyReLU(name=\"LeReLU2\"))\n",
    "    model.add(MaxPooling2D((3,3), padding=\"same\", name=\"Max2\"))\n",
    "    model.add(Flatten(name=\"Flat\"))\n",
    "    model.add(Dropout(0.2, name=\"Dropout\"))    \n",
    "    model.add(Dense(512))\n",
    "    model.add(LeakyReLU(name=\"Leak\")) #?\n",
    "    model.add(Dense(192, activation=\"tanh\"))\n",
    "    model.add(Dense(96, activation=\"tanh\"))\n",
    "    model.add(Dense(3, activation=\"sigmoid\"))\n",
    "    return model"
   ]
  },
  {
   "cell_type": "code",
   "execution_count": 3,
   "metadata": {
    "scrolled": false
   },
   "outputs": [
    {
     "name": "stdout",
     "output_type": "stream",
     "text": [
      "_________________________________________________________________\n",
      "Layer (type)                 Output Shape              Param #   \n",
      "=================================================================\n",
      "Input0 (InputLayer)          (None, 62, 62, 1)         0         \n",
      "_________________________________________________________________\n",
      "Conv1 (Conv2D)               (None, 56, 56, 16)        800       \n",
      "_________________________________________________________________\n",
      "LeReLU1 (LeakyReLU)          (None, 56, 56, 16)        0         \n",
      "_________________________________________________________________\n",
      "Max1 (MaxPooling2D)          (None, 19, 19, 16)        0         \n",
      "_________________________________________________________________\n",
      "Conv2 (Conv2D)               (None, 15, 15, 32)        12832     \n",
      "_________________________________________________________________\n",
      "LeReLU2 (LeakyReLU)          (None, 15, 15, 32)        0         \n",
      "_________________________________________________________________\n",
      "Max2 (MaxPooling2D)          (None, 5, 5, 32)          0         \n",
      "_________________________________________________________________\n",
      "Flat (Flatten)               (None, 800)               0         \n",
      "_________________________________________________________________\n",
      "Dropout (Dropout)            (None, 800)               0         \n",
      "_________________________________________________________________\n",
      "dense_1 (Dense)              (None, 512)               410112    \n",
      "_________________________________________________________________\n",
      "Leak (LeakyReLU)             (None, 512)               0         \n",
      "_________________________________________________________________\n",
      "dense_2 (Dense)              (None, 192)               98496     \n",
      "_________________________________________________________________\n",
      "dense_3 (Dense)              (None, 96)                18528     \n",
      "_________________________________________________________________\n",
      "dense_4 (Dense)              (None, 3)                 291       \n",
      "=================================================================\n",
      "Total params: 541,059\n",
      "Trainable params: 541,059\n",
      "Non-trainable params: 0\n",
      "_________________________________________________________________\n"
     ]
    }
   ],
   "source": [
    "MODEL = new_model()\n",
    "MODEL.summary()\n",
    "plot_model(MODEL, \"Model.png\", True)"
   ]
  },
  {
   "cell_type": "code",
   "execution_count": 4,
   "metadata": {
    "collapsed": true
   },
   "outputs": [],
   "source": [
    "MODEL.compile(optimizer=\"sgd\", loss=\"mse\", metrics=['accuracy'])"
   ]
  },
  {
   "cell_type": "code",
   "execution_count": 5,
   "metadata": {},
   "outputs": [
    {
     "name": "stdout",
     "output_type": "stream",
     "text": [
      "Epoch 1/1\n",
      "128/128 [==============================] - 1s - loss: 0.0299 - acc: 0.7500 - val_loss: 0.0233 - val_acc: 0.7500\n"
     ]
    }
   ],
   "source": [
    "with device('/cpu:0'):\n",
    "    MODEL.fit_generator(director(\"lamost\"), steps_per_epoch=128, epochs=1,\n",
    "                        validation_data=director(\"lamost\"), validation_steps=48)"
   ]
  },
  {
   "cell_type": "code",
   "execution_count": 6,
   "metadata": {
    "collapsed": true
   },
   "outputs": [],
   "source": [
    "MODEL.save(\"lamost.h5\")"
   ]
  },
  {
   "cell_type": "raw",
   "metadata": {},
   "source": [
    "!optirun python Mozek.py"
   ]
  }
 ],
 "metadata": {
  "kernelspec": {
   "display_name": "Python 3",
   "language": "python",
   "name": "python3"
  },
  "language_info": {
   "codemirror_mode": {
    "name": "ipython",
    "version": 3
   },
   "file_extension": ".py",
   "mimetype": "text/x-python",
   "name": "python",
   "nbconvert_exporter": "python",
   "pygments_lexer": "ipython3",
   "version": "3.6.1"
  }
 },
 "nbformat": 4,
 "nbformat_minor": 2
}
