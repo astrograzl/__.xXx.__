{
 "cells": [
  {
   "cell_type": "code",
   "execution_count": 26,
   "metadata": {},
   "outputs": [],
   "source": [
    "import os\n",
    "import glob\n",
    "import numpy as np\n",
    "import seaborn as sns\n",
    "from astropy.io import fits"
   ]
  },
  {
   "cell_type": "code",
   "execution_count": 19,
   "metadata": {},
   "outputs": [],
   "source": [
    "from sklearn.preprocessing import robust_scale"
   ]
  },
  {
   "cell_type": "code",
   "execution_count": 16,
   "metadata": {},
   "outputs": [],
   "source": [
    "%matplotlib inline\n",
    "import matplotlib.pyplot as plt\n",
    "plt.style.use(\"seaborn-darkgrid\")\n",
    "plt.rcParams[\"figure.figsize\"] = (16,9)\n",
    "plt.rcParams[\"image.cmap\"] = \"Spectral\""
   ]
  },
  {
   "cell_type": "code",
   "execution_count": 2,
   "metadata": {},
   "outputs": [],
   "source": [
    "from ipywidgets import IntProgress\n",
    "from IPython.display import display"
   ]
  },
  {
   "cell_type": "code",
   "execution_count": 3,
   "metadata": {},
   "outputs": [],
   "source": [
    "def spec2sqr(spec, a=None, cut=False):\n",
    "    \"\"\"Reshape linear spectrum to square\"\"\"\n",
    "    n = len(spec)\n",
    "    assert n > 0\n",
    "    if not a:\n",
    "        if cut:\n",
    "            a = int(np.floor(np.sqrt(n)))\n",
    "        else:\n",
    "            a = int(np.ceil(np.sqrt(n)))\n",
    "    assert a > 0\n",
    "    d = a**2 - n\n",
    "    if d < 0:\n",
    "        spec2d = spec[:d]\n",
    "    else:\n",
    "        spec2d = np.append(spec, np.zeros(a**2-n))\n",
    "    return np.reshape(spec2d, (a, a))"
   ]
  },
  {
   "cell_type": "code",
   "execution_count": 4,
   "metadata": {},
   "outputs": [],
   "source": [
    "samp = glob.glob(\"sample/*.fits\")"
   ]
  },
  {
   "cell_type": "code",
   "execution_count": 31,
   "metadata": {},
   "outputs": [
    {
     "data": {
      "application/vnd.jupyter.widget-view+json": {
       "model_id": "0af8703bedc14fe3bd8514208d861bfc",
       "version_major": 2,
       "version_minor": 0
      },
      "text/plain": [
       "IntProgress(value=0, max=45017)"
      ]
     },
     "metadata": {},
     "output_type": "display_data"
    }
   ],
   "source": [
    "prog = IntProgress(max=len(samp))\n",
    "display(prog)\n",
    "for i, spec in enumerate(samp):\n",
    "    name = os.path.basename(spec.rstrip(\".fits\"))\n",
    "    flux = fits.getdata(spec)[0]\n",
    "    robo = robust_scale(flux)\n",
    "    save = f\"reshape/{name}.npy\"\n",
    "    np.save(save, spec2sqr(robo, 64))\n",
    "    prog.value = i"
   ]
  }
 ],
 "metadata": {
  "kernelspec": {
   "display_name": "Python 3",
   "language": "python",
   "name": "python3"
  },
  "language_info": {
   "codemirror_mode": {
    "name": "ipython",
    "version": 3
   },
   "file_extension": ".py",
   "mimetype": "text/x-python",
   "name": "python",
   "nbconvert_exporter": "python",
   "pygments_lexer": "ipython3",
   "version": "3.7.3"
  }
 },
 "nbformat": 4,
 "nbformat_minor": 2
}
