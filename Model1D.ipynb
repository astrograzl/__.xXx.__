{
 "cells": [
  {
   "cell_type": "code",
   "execution_count": 23,
   "metadata": {},
   "outputs": [
    {
     "name": "stdout",
     "output_type": "stream",
     "text": [
      "env: CUDA_VISIBLE_DEVICES=-1\n"
     ]
    }
   ],
   "source": [
    "%env CUDA_VISIBLE_DEVICES=-1"
   ]
  },
  {
   "cell_type": "code",
   "execution_count": 24,
   "metadata": {},
   "outputs": [],
   "source": [
    "from keras.models import Sequential\n",
    "from keras.layers import Conv1D, MaxPooling1D, Flatten, Dropout, Dense\n",
    "from keras.layers.advanced_activations import LeakyReLU\n",
    "from keras.optimizers import SGD, RMSprop, Adagrad, Adam\n",
    "from tensorflow import device"
   ]
  },
  {
   "cell_type": "code",
   "execution_count": 25,
   "metadata": {},
   "outputs": [],
   "source": [
    "from numpy import load, stack\n",
    "from itertools import cycle\n",
    "\n",
    "def bachelor(file, base, batch=32):\n",
    "    \"\"\"Generate a batch of training pair of data from directory\"\"\"\n",
    "    with device('/cpu:0'):\n",
    "        names = open(file+\".lst\")\n",
    "        datas = load(file+\".npy\")\n",
    "        X = []; y = []; c = 0;\n",
    "        \n",
    "        while True:\n",
    "            for name, data in cycle(zip(names, datas)):\n",
    "                spec = load(f\"{base}/{name.strip()}.npy\")\n",
    "                spec = spec.reshape(spec.shape + (1,))\n",
    "                para = data.reshape((data.shape[0],))\n",
    "                X.append(spec); y.append(para); c += 1\n",
    "                if c == batch:\n",
    "                    yield stack(X), stack(y)\n",
    "                    X = []; y = []; c = 0;"
   ]
  },
  {
   "cell_type": "markdown",
   "metadata": {},
   "source": [
    "## Model"
   ]
  },
  {
   "cell_type": "code",
   "execution_count": 26,
   "metadata": {},
   "outputs": [],
   "source": [
    "NAME = \"linear\""
   ]
  },
  {
   "cell_type": "code",
   "execution_count": 46,
   "metadata": {},
   "outputs": [],
   "source": [
    "def new_model(name=NAME):\n",
    "    \"\"\"Model definition\"\"\"\n",
    "    model = Sequential(name=name)\n",
    "#    model.add(InputLayer((64,64,1), name=\"Input0\"))\n",
    "\n",
    "    model.add(Conv1D(8, 32, name=\"Conv0\", input_shape=(4096,1)))\n",
    "    model.add(LeakyReLU(name=\"LeReLU0\"))\n",
    "    model.add(MaxPooling1D(6, padding=\"same\", name=\"Max0\"))\n",
    "    \n",
    "    model.add(Conv1D(16, 16, name=\"Conv1\"))\n",
    "    model.add(LeakyReLU(name=\"LeReLU1\"))\n",
    "    model.add(MaxPooling1D(6, padding=\"same\", name=\"Max1\"))\n",
    "    \n",
    "    model.add(Conv1D(32, 8, name=\"Conv2\"))\n",
    "    model.add(LeakyReLU(name=\"LeReLU2\"))\n",
    "    model.add(MaxPooling1D(6, padding=\"same\", name=\"Max2\"))\n",
    "    \n",
    "    model.add(Flatten(name=\"Flat\"))\n",
    "    \n",
    "    model.add(Dropout(0.2, name=\"Dropout\"))    \n",
    "    \n",
    "    model.add(Dense(512, activation=\"tanh\"))\n",
    "    model.add(Dense(128, activation=\"tanh\"))\n",
    "    model.add(Dense(32, activation=\"tanh\"))\n",
    "    model.add(Dense(3, activation=\"linear\"))\n",
    "    return model"
   ]
  },
  {
   "cell_type": "code",
   "execution_count": 47,
   "metadata": {
    "scrolled": false
   },
   "outputs": [
    {
     "name": "stdout",
     "output_type": "stream",
     "text": [
      "_________________________________________________________________\n",
      "Layer (type)                 Output Shape              Param #   \n",
      "=================================================================\n",
      "Conv0 (Conv1D)               (None, 4065, 8)           264       \n",
      "_________________________________________________________________\n",
      "LeReLU0 (LeakyReLU)          (None, 4065, 8)           0         \n",
      "_________________________________________________________________\n",
      "Max0 (MaxPooling1D)          (None, 678, 8)            0         \n",
      "_________________________________________________________________\n",
      "Conv1 (Conv1D)               (None, 663, 16)           2064      \n",
      "_________________________________________________________________\n",
      "LeReLU1 (LeakyReLU)          (None, 663, 16)           0         \n",
      "_________________________________________________________________\n",
      "Max1 (MaxPooling1D)          (None, 111, 16)           0         \n",
      "_________________________________________________________________\n",
      "Conv2 (Conv1D)               (None, 104, 32)           4128      \n",
      "_________________________________________________________________\n",
      "LeReLU2 (LeakyReLU)          (None, 104, 32)           0         \n",
      "_________________________________________________________________\n",
      "Max2 (MaxPooling1D)          (None, 18, 32)            0         \n",
      "_________________________________________________________________\n",
      "Flat (Flatten)               (None, 576)               0         \n",
      "_________________________________________________________________\n",
      "Dropout (Dropout)            (None, 576)               0         \n",
      "_________________________________________________________________\n",
      "dense_29 (Dense)             (None, 512)               295424    \n",
      "_________________________________________________________________\n",
      "dense_30 (Dense)             (None, 128)               65664     \n",
      "_________________________________________________________________\n",
      "dense_31 (Dense)             (None, 32)                4128      \n",
      "_________________________________________________________________\n",
      "dense_32 (Dense)             (None, 3)                 99        \n",
      "=================================================================\n",
      "Total params: 371,771\n",
      "Trainable params: 371,771\n",
      "Non-trainable params: 0\n",
      "_________________________________________________________________\n"
     ]
    }
   ],
   "source": [
    "MODEL = new_model(NAME)\n",
    "MODEL.summary()"
   ]
  },
  {
   "cell_type": "code",
   "execution_count": 48,
   "metadata": {},
   "outputs": [],
   "source": [
    "MODEL.compile(optimizer=\"sgd\", loss=\"mse\", metrics=['accuracy'])"
   ]
  },
  {
   "cell_type": "code",
   "execution_count": 49,
   "metadata": {},
   "outputs": [
    {
     "name": "stdout",
     "output_type": "stream",
     "text": [
      "Epoch 1/1\n",
      "845/845 [==============================] - 36s 42ms/step - loss: 0.1640 - acc: 0.8682 - val_loss: 0.1116 - val_acc: 0.9070\n"
     ]
    }
   ],
   "source": [
    "with device('/cpu:0'):\n",
    "    MODEL.fit_generator(bachelor(\"train\", \"linear\"),\n",
    "                        steps_per_epoch=845, epochs=1,\n",
    "                        validation_data=bachelor(\"tests\", \"linear\"),\n",
    "                        validation_steps=282)"
   ]
  },
  {
   "cell_type": "code",
   "execution_count": 50,
   "metadata": {},
   "outputs": [],
   "source": [
    "MODEL.save(NAME+\".h5\")"
   ]
  },
  {
   "cell_type": "raw",
   "metadata": {},
   "source": [
    "!optirun python Mozek.py <NAME>"
   ]
  }
 ],
 "metadata": {
  "kernelspec": {
   "display_name": "Python 3",
   "language": "python",
   "name": "python3"
  },
  "language_info": {
   "codemirror_mode": {
    "name": "ipython",
    "version": 3
   },
   "file_extension": ".py",
   "mimetype": "text/x-python",
   "name": "python",
   "nbconvert_exporter": "python",
   "pygments_lexer": "ipython3",
   "version": "3.7.3"
  }
 },
 "nbformat": 4,
 "nbformat_minor": 2
}
