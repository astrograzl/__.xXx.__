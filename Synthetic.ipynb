{
 "cells": [
  {
   "cell_type": "code",
   "execution_count": 15,
   "metadata": {},
   "outputs": [],
   "source": [
    "import os\n",
    "import glob\n",
    "import random"
   ]
  },
  {
   "cell_type": "code",
   "execution_count": 16,
   "metadata": {},
   "outputs": [],
   "source": [
    "url = \"http://npollux.lupm.univ-montp2.fr/DBPollux/PolluxAccesDB?Mode=Telecharger&Filename=\""
   ]
  },
  {
   "cell_type": "code",
   "execution_count": 17,
   "metadata": {},
   "outputs": [],
   "source": [
    "dat = open(\"problem.lst\") #open(\"pollux.dat\")"
   ]
  },
  {
   "cell_type": "code",
   "execution_count": 18,
   "metadata": {},
   "outputs": [],
   "source": [
    "dwn = open(\"download.sh\", \"w\")"
   ]
  },
  {
   "cell_type": "code",
   "execution_count": 19,
   "metadata": {},
   "outputs": [],
   "source": [
    "for line in dat:\n",
    "    uri = line.strip() #line.split(\"|\")[1].strip()\n",
    "    fln = f\"{uri}.flat.tgz\"\n",
    "    if not os.path.exists(f\"/mnt/arch/POLLUX/{fln}\"):\n",
    "        dwn.write(f\"wget -O {uri}.flat.tgz '{url}{uri}'\\n\")\n",
    "        dwn.write(f\"sleep {random.randint(1,5)}\\n\")"
   ]
  },
  {
   "cell_type": "code",
   "execution_count": 20,
   "metadata": {},
   "outputs": [],
   "source": [
    "dwn.close()"
   ]
  },
  {
   "cell_type": "code",
   "execution_count": 81,
   "metadata": {},
   "outputs": [],
   "source": [
    "tgz = glob.glob(\"/mnt/arch/POLLUX/*.tgz\")"
   ]
  },
  {
   "cell_type": "code",
   "execution_count": 82,
   "metadata": {},
   "outputs": [],
   "source": [
    "for fln in tgz:\n",
    "    if os.path.getsize(fln) == 0:\n",
    "        os.remove(fln)"
   ]
  }
 ],
 "metadata": {
  "kernelspec": {
   "display_name": "Python 3",
   "language": "python",
   "name": "python3"
  },
  "language_info": {
   "codemirror_mode": {
    "name": "ipython",
    "version": 3
   },
   "file_extension": ".py",
   "mimetype": "text/x-python",
   "name": "python",
   "nbconvert_exporter": "python",
   "pygments_lexer": "ipython3",
   "version": "3.7.3"
  }
 },
 "nbformat": 4,
 "nbformat_minor": 2
}
