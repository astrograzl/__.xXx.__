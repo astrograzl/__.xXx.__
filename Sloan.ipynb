{
 "cells": [
  {
   "cell_type": "code",
   "execution_count": 5,
   "metadata": {},
   "outputs": [],
   "source": [
    "from astropy.table import Table"
   ]
  },
  {
   "cell_type": "code",
   "execution_count": 10,
   "metadata": {},
   "outputs": [
    {
     "name": "stdout",
     "output_type": "stream",
     "text": [
      "Downloading ftp://cdsarc.u-strasbg.fr/pub/cats/J/other/JAVSO/42.443/ugriz.dat [Done]\n",
      "Downloading ftp://cdsarc.u-strasbg.fr/pub/cats/J/other/JAVSO/42.443/ReadMe [Done]\n"
     ]
    }
   ],
   "source": [
    "sloan = Table.read(\n",
    "    \"ftp://cdsarc.u-strasbg.fr/pub/cats/J/other/JAVSO/42.443/ugriz.dat\",\n",
    "    readme=\"ftp://cdsarc.u-strasbg.fr/pub/cats/J/other/JAVSO/42.443/ReadMe\",\n",
    "    format=\"ascii.cds\"\n",
    ")"
   ]
  },
  {
   "cell_type": "code",
   "execution_count": 11,
   "metadata": {},
   "outputs": [
    {
     "data": {
      "text/html": [
       "&lt;Table masked=True length=3969&gt;\n",
       "<table id=\"table140492909793008\" class=\"table-striped table-bordered table-condensed\">\n",
       "<thead><tr><th>HD</th><th>Vmag</th><th>U-B</th><th>B-V</th><th>V-R</th><th>R-I</th><th>V-Rc</th><th>Rc-Ic</th><th>u&apos;mag</th><th>e_u&apos;mag</th><th>g&apos;mag</th><th>e_g&apos;mag</th><th>r&apos;mag</th><th>e_r&apos;mag</th><th>i&apos;mag</th><th>e_i&apos;mag</th><th>z&apos;mag</th><th>e_z&apos;mag</th></tr></thead>\n",
       "<thead><tr><th></th><th>mag</th><th>mag</th><th>mag</th><th>mag</th><th>mag</th><th>mag</th><th>mag</th><th>mag</th><th>cmag</th><th>mag</th><th>cmag</th><th>mag</th><th>cmag</th><th>mag</th><th>cmag</th><th>mag</th><th>cmag</th></tr></thead>\n",
       "<thead><tr><th>int64</th><th>float64</th><th>float64</th><th>float64</th><th>float64</th><th>float64</th><th>float64</th><th>float64</th><th>float64</th><th>int64</th><th>float64</th><th>int64</th><th>float64</th><th>int64</th><th>float64</th><th>int64</th><th>float64</th><th>int64</th></tr></thead>\n",
       "<tr><td>496</td><td>3.88</td><td>0.84</td><td>1.03</td><td>0.75</td><td>0.52</td><td>0.52</td><td>0.47</td><td>6.62</td><td>5</td><td>4.35</td><td>4</td><td>3.55</td><td>4</td><td>3.3</td><td>3</td><td>3.18</td><td>3</td></tr>\n",
       "<tr><td>571</td><td>5.04</td><td>0.26</td><td>0.4</td><td>0.42</td><td>0.29</td><td>0.27</td><td>0.28</td><td>6.65</td><td>9</td><td>5.17</td><td>3</td><td>4.96</td><td>2</td><td>4.91</td><td>2</td><td>4.9</td><td>3</td></tr>\n",
       "<tr><td>1013</td><td>4.8</td><td>1.93</td><td>1.57</td><td>1.34</td><td>1.13</td><td>0.9</td><td>1.05</td><td>9.31</td><td>14</td><td>5.57</td><td>5</td><td>4.19</td><td>5</td><td>3.37</td><td>3</td><td>2.88</td><td>3</td></tr>\n",
       "<tr><td>1280</td><td>4.61</td><td>0.05</td><td>0.06</td><td>0.08</td><td>0.01</td><td>0.03</td><td>0.03</td><td>5.75</td><td>13</td><td>4.55</td><td>3</td><td>4.71</td><td>2</td><td>4.9</td><td>2</td><td>5.05</td><td>3</td></tr>\n",
       "<tr><td>1404</td><td>4.52</td><td>0.07</td><td>0.05</td><td>0.08</td><td>0.0</td><td>0.03</td><td>0.01</td><td>5.68</td><td>14</td><td>4.45</td><td>3</td><td>4.62</td><td>2</td><td>4.83</td><td>2</td><td>4.99</td><td>3</td></tr>\n",
       "<tr><td>1522</td><td>3.55</td><td>1.17</td><td>1.22</td><td>0.85</td><td>0.59</td><td>0.59</td><td>0.52</td><td>6.84</td><td>7</td><td>4.13</td><td>4</td><td>3.15</td><td>5</td><td>2.85</td><td>3</td><td>2.69</td><td>3</td></tr>\n",
       "<tr><td>1581</td><td>4.23</td><td>0.02</td><td>0.58</td><td>0.49</td><td>0.34</td><td>0.32</td><td>0.33</td><td>5.61</td><td>4</td><td>4.45</td><td>3</td><td>4.09</td><td>2</td><td>3.97</td><td>2</td><td>3.93</td><td>2</td></tr>\n",
       "<tr><td>2151</td><td>2.8</td><td>0.11</td><td>0.62</td><td>0.5</td><td>0.34</td><td>0.33</td><td>0.34</td><td>4.33</td><td>3</td><td>3.05</td><td>3</td><td>2.64</td><td>2</td><td>2.53</td><td>2</td><td>2.49</td><td>2</td></tr>\n",
       "<tr><td>2261</td><td>2.4</td><td>0.88</td><td>1.09</td><td>0.81</td><td>0.59</td><td>0.56</td><td>0.52</td><td>5.23</td><td>4</td><td>2.9</td><td>4</td><td>2.04</td><td>4</td><td>1.74</td><td>3</td><td>1.58</td><td>3</td></tr>\n",
       "<tr><td>...</td><td>...</td><td>...</td><td>...</td><td>...</td><td>...</td><td>...</td><td>...</td><td>...</td><td>...</td><td>...</td><td>...</td><td>...</td><td>...</td><td>...</td><td>...</td><td>...</td><td>...</td></tr>\n",
       "<tr><td>37209</td><td>5.74</td><td>-0.91</td><td>-0.22</td><td>--</td><td>--</td><td>--</td><td>--</td><td>5.42</td><td>3</td><td>5.52</td><td>2</td><td>5.96</td><td>2</td><td>--</td><td>--</td><td>--</td><td>--</td></tr>\n",
       "<tr><td>37303</td><td>6.06</td><td>-0.92</td><td>-0.21</td><td>--</td><td>--</td><td>--</td><td>--</td><td>5.73</td><td>4</td><td>5.85</td><td>2</td><td>6.27</td><td>2</td><td>--</td><td>--</td><td>--</td><td>--</td></tr>\n",
       "<tr><td>218537</td><td>6.25</td><td>-0.6</td><td>-0.01</td><td>--</td><td>--</td><td>--</td><td>--</td><td>6.47</td><td>3</td><td>6.15</td><td>3</td><td>6.37</td><td>2</td><td>--</td><td>--</td><td>--</td><td>--</td></tr>\n",
       "<tr><td>36591</td><td>5.35</td><td>-0.93</td><td>-0.19</td><td>--</td><td>--</td><td>--</td><td>--</td><td>5.02</td><td>4</td><td>5.15</td><td>2</td><td>5.55</td><td>2</td><td>--</td><td>--</td><td>--</td><td>--</td></tr>\n",
       "<tr><td>36646</td><td>6.53</td><td>-0.65</td><td>-0.1</td><td>--</td><td>--</td><td>--</td><td>--</td><td>6.63</td><td>3</td><td>6.38</td><td>2</td><td>6.69</td><td>2</td><td>--</td><td>--</td><td>--</td><td>--</td></tr>\n",
       "<tr><td>36779</td><td>6.2</td><td>-0.81</td><td>-0.16</td><td>--</td><td>--</td><td>--</td><td>--</td><td>6.05</td><td>3</td><td>6.02</td><td>2</td><td>6.39</td><td>2</td><td>--</td><td>--</td><td>--</td><td>--</td></tr>\n",
       "<tr><td>88318</td><td>6.27</td><td>-0.05</td><td>-0.02</td><td>--</td><td>--</td><td>--</td><td>--</td><td>7.23</td><td>13</td><td>6.16</td><td>2</td><td>6.39</td><td>2</td><td>--</td><td>--</td><td>--</td><td>--</td></tr>\n",
       "<tr><td>87808</td><td>5.6</td><td>--</td><td>1.5</td><td>--</td><td>--</td><td>--</td><td>--</td><td>--</td><td>--</td><td>6.33</td><td>5</td><td>5.02</td><td>5</td><td>--</td><td>--</td><td>--</td><td>--</td></tr>\n",
       "<tr><td>88437</td><td>6.13</td><td>--</td><td>0.03</td><td>--</td><td>--</td><td>--</td><td>--</td><td>--</td><td>--</td><td>6.05</td><td>3</td><td>6.23</td><td>2</td><td>--</td><td>--</td><td>--</td><td>--</td></tr>\n",
       "<tr><td>90432</td><td>3.79</td><td>1.81</td><td>1.48</td><td>--</td><td>--</td><td>--</td><td>--</td><td>8.09</td><td>14</td><td>4.51</td><td>4</td><td>3.22</td><td>5</td><td>--</td><td>--</td><td>--</td><td>--</td></tr>\n",
       "</table>"
      ],
      "text/plain": [
       "<Table masked=True length=3969>\n",
       "  HD     Vmag    U-B     B-V     V-R   ...  i'mag  e_i'mag  z'mag  e_z'mag\n",
       "         mag     mag     mag     mag   ...   mag     cmag    mag     cmag \n",
       "int64  float64 float64 float64 float64 ... float64  int64  float64  int64 \n",
       "------ ------- ------- ------- ------- ... ------- ------- ------- -------\n",
       "   496    3.88    0.84    1.03    0.75 ...     3.3       3    3.18       3\n",
       "   571    5.04    0.26     0.4    0.42 ...    4.91       2     4.9       3\n",
       "  1013     4.8    1.93    1.57    1.34 ...    3.37       3    2.88       3\n",
       "  1280    4.61    0.05    0.06    0.08 ...     4.9       2    5.05       3\n",
       "  1404    4.52    0.07    0.05    0.08 ...    4.83       2    4.99       3\n",
       "  1522    3.55    1.17    1.22    0.85 ...    2.85       3    2.69       3\n",
       "  1581    4.23    0.02    0.58    0.49 ...    3.97       2    3.93       2\n",
       "  2151     2.8    0.11    0.62     0.5 ...    2.53       2    2.49       2\n",
       "  2261     2.4    0.88    1.09    0.81 ...    1.74       3    1.58       3\n",
       "   ...     ...     ...     ...     ... ...     ...     ...     ...     ...\n",
       " 37209    5.74   -0.91   -0.22      -- ...      --      --      --      --\n",
       " 37303    6.06   -0.92   -0.21      -- ...      --      --      --      --\n",
       "218537    6.25    -0.6   -0.01      -- ...      --      --      --      --\n",
       " 36591    5.35   -0.93   -0.19      -- ...      --      --      --      --\n",
       " 36646    6.53   -0.65    -0.1      -- ...      --      --      --      --\n",
       " 36779     6.2   -0.81   -0.16      -- ...      --      --      --      --\n",
       " 88318    6.27   -0.05   -0.02      -- ...      --      --      --      --\n",
       " 87808     5.6      --     1.5      -- ...      --      --      --      --\n",
       " 88437    6.13      --    0.03      -- ...      --      --      --      --\n",
       " 90432    3.79    1.81    1.48      -- ...      --      --      --      --"
      ]
     },
     "execution_count": 11,
     "metadata": {},
     "output_type": "execute_result"
    }
   ],
   "source": [
    "sloan"
   ]
  },
  {
   "cell_type": "code",
   "execution_count": null,
   "metadata": {
    "collapsed": true
   },
   "outputs": [],
   "source": []
  }
 ],
 "metadata": {
  "kernelspec": {
   "display_name": "Python 3",
   "language": "python",
   "name": "python3"
  },
  "language_info": {
   "codemirror_mode": {
    "name": "ipython",
    "version": 3
   },
   "file_extension": ".py",
   "mimetype": "text/x-python",
   "name": "python",
   "nbconvert_exporter": "python",
   "pygments_lexer": "ipython3",
   "version": "3.6.1"
  }
 },
 "nbformat": 4,
 "nbformat_minor": 2
}
