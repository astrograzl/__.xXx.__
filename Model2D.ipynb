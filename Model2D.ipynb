{
 "cells": [
  {
   "cell_type": "code",
   "execution_count": 1,
   "metadata": {},
   "outputs": [
    {
     "name": "stdout",
     "output_type": "stream",
     "text": [
      "env: CUDA_VISIBLE_DEVICES=-1\n"
     ]
    }
   ],
   "source": [
    "%env CUDA_VISIBLE_DEVICES=-1"
   ]
  },
  {
   "cell_type": "code",
   "execution_count": 2,
   "metadata": {},
   "outputs": [
    {
     "name": "stderr",
     "output_type": "stream",
     "text": [
      "Using TensorFlow backend.\n"
     ]
    }
   ],
   "source": [
    "from keras.models import Sequential\n",
    "from keras.layers import InputLayer, Activation, Conv2D, MaxPooling2D, Flatten, Dropout, Dense\n",
    "from keras.layers.advanced_activations import LeakyReLU\n",
    "from keras.optimizers import SGD, RMSprop, Adagrad, Adam\n",
    "from tensorflow import device"
   ]
  },
  {
   "cell_type": "code",
   "execution_count": 3,
   "metadata": {},
   "outputs": [],
   "source": [
    "from numpy import load, stack\n",
    "from itertools import cycle\n",
    "\n",
    "def bachelor(file, base, batch=32):\n",
    "    \"\"\"Generate a batch of training pair of data from directory\"\"\"\n",
    "    with device('/cpu:0'):\n",
    "        names = open(file+\".lst\")\n",
    "        datas = load(file+\".npy\")\n",
    "        X = []; y = []; c = 0;\n",
    "        \n",
    "        while True:\n",
    "            for name, data in cycle(zip(names, datas)):\n",
    "                spec = load(f\"{base}/{name.strip()}.npy\")\n",
    "                spec = spec.reshape(spec.shape + (1,))\n",
    "                para = data.reshape((data.shape[0],))\n",
    "                X.append(spec); y.append(para); c += 1\n",
    "                if c == batch:\n",
    "                    yield stack(X), stack(y)\n",
    "                    X = []; y = []; c = 0;"
   ]
  },
  {
   "cell_type": "markdown",
   "metadata": {},
   "source": [
    "## Model"
   ]
  },
  {
   "cell_type": "code",
   "execution_count": 4,
   "metadata": {},
   "outputs": [],
   "source": [
    "NAME = \"lamost\""
   ]
  },
  {
   "cell_type": "code",
   "execution_count": 9,
   "metadata": {},
   "outputs": [],
   "source": [
    "def new_model(name=NAME):\n",
    "    \"\"\"Model definition\"\"\"\n",
    "    model = Sequential(name=name)\n",
    "#    model.add(InputLayer((64,64,1), name=\"Input0\"))\n",
    "\n",
    "    model.add(Conv2D(8, (7,7), name=\"Conv0\", input_shape=(64,64,1)))\n",
    "    model.add(LeakyReLU(name=\"LeReLU0\"))\n",
    "    model.add(MaxPooling2D((2,2), name=\"Max0\"))\n",
    "    \n",
    "    model.add(Conv2D(16, (5,5), name=\"Conv1\"))\n",
    "    model.add(LeakyReLU(name=\"LeReLU1\"))\n",
    "    model.add(MaxPooling2D((2,2), padding=\"same\", name=\"Max1\"))\n",
    "    \n",
    "    model.add(Conv2D(32, (3,3), name=\"Conv2\"))\n",
    "    model.add(LeakyReLU(name=\"LeReLU2\"))\n",
    "    model.add(MaxPooling2D((2,2), padding=\"same\", name=\"Max2\"))\n",
    "    \n",
    "    model.add(Flatten(name=\"Flat\"))\n",
    "    \n",
    "    model.add(Dropout(0.2, name=\"Dropout\"))    \n",
    "    \n",
    "    model.add(Dense(512, activation=\"tanh\"))\n",
    "    model.add(Dense(128, activation=\"tanh\"))\n",
    "    model.add(Dense(32, activation=\"tanh\"))\n",
    "    model.add(Dense(3, activation=\"linear\"))\n",
    "    return model"
   ]
  },
  {
   "cell_type": "code",
   "execution_count": 10,
   "metadata": {
    "scrolled": false
   },
   "outputs": [
    {
     "name": "stdout",
     "output_type": "stream",
     "text": [
      "_________________________________________________________________\n",
      "Layer (type)                 Output Shape              Param #   \n",
      "=================================================================\n",
      "Conv0 (Conv2D)               (None, 58, 58, 8)         400       \n",
      "_________________________________________________________________\n",
      "LeReLU0 (LeakyReLU)          (None, 58, 58, 8)         0         \n",
      "_________________________________________________________________\n",
      "Max0 (MaxPooling2D)          (None, 29, 29, 8)         0         \n",
      "_________________________________________________________________\n",
      "Conv1 (Conv2D)               (None, 25, 25, 16)        3216      \n",
      "_________________________________________________________________\n",
      "LeReLU1 (LeakyReLU)          (None, 25, 25, 16)        0         \n",
      "_________________________________________________________________\n",
      "Max1 (MaxPooling2D)          (None, 13, 13, 16)        0         \n",
      "_________________________________________________________________\n",
      "Conv2 (Conv2D)               (None, 11, 11, 32)        4640      \n",
      "_________________________________________________________________\n",
      "LeReLU2 (LeakyReLU)          (None, 11, 11, 32)        0         \n",
      "_________________________________________________________________\n",
      "Max2 (MaxPooling2D)          (None, 6, 6, 32)          0         \n",
      "_________________________________________________________________\n",
      "Flat (Flatten)               (None, 1152)              0         \n",
      "_________________________________________________________________\n",
      "Dropout (Dropout)            (None, 1152)              0         \n",
      "_________________________________________________________________\n",
      "dense_9 (Dense)              (None, 512)               590336    \n",
      "_________________________________________________________________\n",
      "dense_10 (Dense)             (None, 128)               65664     \n",
      "_________________________________________________________________\n",
      "dense_11 (Dense)             (None, 32)                4128      \n",
      "_________________________________________________________________\n",
      "dense_12 (Dense)             (None, 3)                 99        \n",
      "=================================================================\n",
      "Total params: 668,483\n",
      "Trainable params: 668,483\n",
      "Non-trainable params: 0\n",
      "_________________________________________________________________\n"
     ]
    }
   ],
   "source": [
    "MODEL = new_model(NAME)\n",
    "MODEL.summary()"
   ]
  },
  {
   "cell_type": "code",
   "execution_count": 11,
   "metadata": {},
   "outputs": [],
   "source": [
    "MODEL.compile(optimizer=\"sgd\", loss=\"mse\", metrics=['accuracy'])"
   ]
  },
  {
   "cell_type": "code",
   "execution_count": 12,
   "metadata": {},
   "outputs": [
    {
     "name": "stdout",
     "output_type": "stream",
     "text": [
      "WARNING:tensorflow:From /home/janak/conda/lib/python3.7/site-packages/tensorflow/python/ops/math_ops.py:3066: to_int32 (from tensorflow.python.ops.math_ops) is deprecated and will be removed in a future version.\n",
      "Instructions for updating:\n",
      "Use tf.cast instead.\n",
      "Epoch 1/1\n",
      "845/845 [==============================] - 31s 37ms/step - loss: 0.1624 - acc: 0.8731 - val_loss: 0.1009 - val_acc: 0.9176\n"
     ]
    }
   ],
   "source": [
    "with device('/cpu:0'):\n",
    "    MODEL.fit_generator(bachelor(\"train\", \"reshape\"),\n",
    "                        steps_per_epoch=845, epochs=1,\n",
    "                        validation_data=bachelor(\"tests\", \"reshape\"),\n",
    "                        validation_steps=282)"
   ]
  },
  {
   "cell_type": "code",
   "execution_count": 14,
   "metadata": {},
   "outputs": [],
   "source": [
    "MODEL.save(NAME+\".h5\")"
   ]
  },
  {
   "cell_type": "raw",
   "metadata": {},
   "source": [
    "!optirun python Mozek.py <NAME>"
   ]
  }
 ],
 "metadata": {
  "kernelspec": {
   "display_name": "Python 3",
   "language": "python",
   "name": "python3"
  },
  "language_info": {
   "codemirror_mode": {
    "name": "ipython",
    "version": 3
   },
   "file_extension": ".py",
   "mimetype": "text/x-python",
   "name": "python",
   "nbconvert_exporter": "python",
   "pygments_lexer": "ipython3",
   "version": "3.7.3"
  }
 },
 "nbformat": 4,
 "nbformat_minor": 2
}
