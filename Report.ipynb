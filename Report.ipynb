{
 "cells": [
  {
   "cell_type": "code",
   "execution_count": 1,
   "metadata": {
    "collapsed": true
   },
   "outputs": [],
   "source": [
    "import os\n",
    "import glob\n",
    "import numpy as np\n",
    "from sklearn.preprocessing import robust_scale\n",
    "from astropy.io import fits\n",
    "from castor import spec2sqr"
   ]
  },
  {
   "cell_type": "code",
   "execution_count": 2,
   "metadata": {
    "collapsed": true
   },
   "outputs": [],
   "source": [
    "#%matplotlib inline\n",
    "import seaborn as sns\n",
    "sns.set_style(\"darkgrid\")\n",
    "from mpl_toolkits.mplot3d import Axes3D\n",
    "import matplotlib.pyplot as plt\n",
    "import warnings as war\n",
    "war.filterwarnings(\"ignore\")"
   ]
  },
  {
   "cell_type": "code",
   "execution_count": 40,
   "metadata": {
    "collapsed": true
   },
   "outputs": [],
   "source": [
    "from ipywidgets import interact\n",
    "from IPython.display import display"
   ]
  },
  {
   "cell_type": "code",
   "execution_count": 41,
   "metadata": {
    "collapsed": true
   },
   "outputs": [],
   "source": [
    "PATH = \"/mnt/arch/SKODA/spectra/\"\n",
    "I2CS = glob.glob(PATH+\"*.fit\") + glob.glob(PATH+\"*.0??\") + glob.glob(PATH+\"ESO/*.0??\")"
   ]
  },
  {
   "cell_type": "code",
   "execution_count": 45,
   "metadata": {
    "scrolled": false
   },
   "outputs": [
    {
     "data": {
      "application/vnd.jupyter.widget-view+json": {
       "model_id": "f2913b8286b74478a877998850fd03d3"
      }
     },
     "metadata": {},
     "output_type": "display_data"
    }
   ],
   "source": [
    "@interact(i=range(len(I2CS)))\n",
    "def iplot(i):\n",
    "    try:\n",
    "        name = I2CS[i]\n",
    "        spec = fits.getdata(name)\n",
    "        head = fits.getheader(name)\n",
    "        for key in head:\n",
    "            print(key+\" = \"+head[key]+\" / \"+head.comments[key])\n",
    "        plt.figure(figsize=(16,9))\n",
    "        plt.plot(spec)\n",
    "        plt.show()\n",
    "        \n",
    "    except:\n",
    "        print(name)"
   ]
  },
  {
   "cell_type": "code",
   "execution_count": 13,
   "metadata": {},
   "outputs": [
    {
     "name": "stdout",
     "output_type": "stream",
     "text": [
      "/mnt/arch/SKODA/spectra/i2cell0047.fit\n",
      "/mnt/arch/SKODA/spectra/i2cell0048.fit\n",
      "/mnt/arch/SKODA/spectra/i2cell0049.fit\n",
      "/mnt/arch/SKODA/spectra/990301R0.019\n",
      "/mnt/arch/SKODA/spectra/990301R0.020\n",
      "/mnt/arch/SKODA/spectra/990301R0.021\n",
      "/mnt/arch/SKODA/spectra/990301R0.022\n"
     ]
    }
   ],
   "source": [
    "cut = I2CS[0:20]+I2CS[25:-5]\n",
    "#assert len(cut) == 40\n",
    "n = 1\n",
    "l = len(cut)\n",
    "for i in cut:\n",
    "    try:\n",
    "        HEAD = fits.getheader(i)  ## TODO ##\n",
    "        with open(i+\".txt\", \"w\") as head:\n",
    "            head.write(\"\\n\".join(HEAD))\n",
    "        try:\n",
    "            TITLE = fits.getval(i, \"ID\")\n",
    "        except:\n",
    "            TITLE = \"?\"\n",
    "        NAXIS = fits.getval(i, \"NAXIS1\")\n",
    "        CRVAL = fits.getval(i, \"CRVAL1\")\n",
    "        CDELT = fits.getval(i, \"CDELT1\")\n",
    "        WAVE = CRVAL + CDELT * np.arange(NAXIS)\n",
    "        LAME = 1 / WAVE * 1e8\n",
    "        SPEC = fits.getdata(i)\n",
    "        plt.figure(num=1, figsize=(16,9))    \n",
    "        plt.title(TITLE)\n",
    "        plt.plot(robust_scale(SPEC))\n",
    "        n += 1\n",
    "    except:\n",
    "        print(i)\n",
    "    plt.savefig(i+\".svg\", bbox_inches=\"tight\")\n",
    "    plt.close(1)"
   ]
  },
  {
   "cell_type": "code",
   "execution_count": null,
   "metadata": {
    "collapsed": true
   },
   "outputs": [],
   "source": []
  }
 ],
 "metadata": {
  "kernelspec": {
   "display_name": "Python 3",
   "language": "python",
   "name": "python3"
  },
  "language_info": {
   "codemirror_mode": {
    "name": "ipython",
    "version": 3
   },
   "file_extension": ".py",
   "mimetype": "text/x-python",
   "name": "python",
   "nbconvert_exporter": "python",
   "pygments_lexer": "ipython3",
   "version": "3.6.2"
  }
 },
 "nbformat": 4,
 "nbformat_minor": 2
}
