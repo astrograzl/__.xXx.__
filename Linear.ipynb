{
 "cells": [
  {
   "cell_type": "code",
   "execution_count": 1,
   "metadata": {},
   "outputs": [],
   "source": [
    "import os\n",
    "import glob\n",
    "import numpy as np\n",
    "import seaborn as sns\n",
    "from astropy.io import fits"
   ]
  },
  {
   "cell_type": "code",
   "execution_count": 2,
   "metadata": {},
   "outputs": [],
   "source": [
    "from sklearn.preprocessing import robust_scale"
   ]
  },
  {
   "cell_type": "code",
   "execution_count": 3,
   "metadata": {},
   "outputs": [],
   "source": [
    "from ipywidgets import IntProgress\n",
    "from IPython.display import display"
   ]
  },
  {
   "cell_type": "code",
   "execution_count": 5,
   "metadata": {},
   "outputs": [],
   "source": [
    "def spec2line(spec, a=None):\n",
    "    n = len(spec)\n",
    "    assert n > 0\n",
    "    assert a > 0\n",
    "    d = a**2 - n\n",
    "    if d < 0:\n",
    "        spec2d = spec[:d]\n",
    "    else:\n",
    "        spec2d = np.append(spec, np.zeros(a**2-n))\n",
    "    return spec2d"
   ]
  },
  {
   "cell_type": "code",
   "execution_count": 6,
   "metadata": {},
   "outputs": [],
   "source": [
    "samp = glob.glob(\"sample/*.fits\")"
   ]
  },
  {
   "cell_type": "code",
   "execution_count": 7,
   "metadata": {},
   "outputs": [
    {
     "data": {
      "application/vnd.jupyter.widget-view+json": {
       "model_id": "2ae2b69ecc054e8081fb2aa32b6f77d9",
       "version_major": 2,
       "version_minor": 0
      },
      "text/plain": [
       "IntProgress(value=0, max=45017)"
      ]
     },
     "metadata": {},
     "output_type": "display_data"
    }
   ],
   "source": [
    "prog = IntProgress(max=len(samp))\n",
    "display(prog)\n",
    "for i, spec in enumerate(samp):\n",
    "    name = os.path.basename(spec.rstrip(\".fits\"))\n",
    "    flux = fits.getdata(spec)[0]\n",
    "    robo = robust_scale(flux)\n",
    "    save = f\"linear/{name}.npy\"\n",
    "    np.save(save, spec2line(robo, 64))\n",
    "    prog.value = i"
   ]
  }
 ],
 "metadata": {
  "kernelspec": {
   "display_name": "Python 3",
   "language": "python",
   "name": "python3"
  },
  "language_info": {
   "codemirror_mode": {
    "name": "ipython",
    "version": 3
   },
   "file_extension": ".py",
   "mimetype": "text/x-python",
   "name": "python",
   "nbconvert_exporter": "python",
   "pygments_lexer": "ipython3",
   "version": "3.7.3"
  }
 },
 "nbformat": 4,
 "nbformat_minor": 2
}
