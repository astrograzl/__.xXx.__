{
 "cells": [
  {
   "cell_type": "code",
   "execution_count": 1,
   "metadata": {},
   "outputs": [],
   "source": [
    "import os\n",
    "import glob"
   ]
  },
  {
   "cell_type": "code",
   "execution_count": 54,
   "metadata": {},
   "outputs": [],
   "source": [
    "import numpy as np\n",
    "import pandas as pd"
   ]
  },
  {
   "cell_type": "code",
   "execution_count": 55,
   "metadata": {},
   "outputs": [],
   "source": [
    "from PIL import Image\n",
    "from sqlalchemy import create_engine"
   ]
  },
  {
   "cell_type": "code",
   "execution_count": 6,
   "metadata": {},
   "outputs": [],
   "source": [
    "from ipywidgets import IntProgress\n",
    "from IPython.display import display"
   ]
  },
  {
   "cell_type": "code",
   "execution_count": 7,
   "metadata": {},
   "outputs": [],
   "source": [
    "%matplotlib inline\n",
    "import matplotlib.pyplot as plt\n",
    "plt.style.use(\"seaborn-darkgrid\")\n",
    "plt.rcParams[\"figure.figsize\"] = (16, 9)\n",
    "plt.rcParams[\"font.family\"] = \"DejaVu Sans\"\n",
    "plt.rcParams[\"image.cmap\"] = \"Spectral\""
   ]
  },
  {
   "cell_type": "code",
   "execution_count": 8,
   "metadata": {},
   "outputs": [],
   "source": [
    "eng = create_engine(\"sqlite:///lamost.db5\")"
   ]
  },
  {
   "cell_type": "code",
   "execution_count": 9,
   "metadata": {},
   "outputs": [],
   "source": [
    "key = [\"teff\", \"logg\", \"feh\", \"planid\"]"
   ]
  },
  {
   "cell_type": "code",
   "execution_count": 10,
   "metadata": {},
   "outputs": [],
   "source": [
    "sql = f\"SELECT {','.join(key)} FROM star\""
   ]
  },
  {
   "cell_type": "code",
   "execution_count": 11,
   "metadata": {},
   "outputs": [],
   "source": [
    "data = pd.read_sql(sql, eng)\n",
    "data[\"teff\"] = np.log10(data[\"teff\"])"
   ]
  },
  {
   "cell_type": "code",
   "execution_count": 12,
   "metadata": {},
   "outputs": [],
   "source": [
    "grouped = data.groupby(\"planid\")"
   ]
  },
  {
   "cell_type": "markdown",
   "metadata": {},
   "source": [
    "```python\n",
    "# incremental @ crab\n",
    "prog = IntProgress(max=len(grouped)); display(prog)\n",
    "\n",
    "plt.figure(1, figsize=(21,10), dpi=120)\n",
    "plt.title(\"Lamost physical quantity template\")\n",
    "plt.xlabel(\"Logaritmus of $T_\\mathrm{eff}$\")\n",
    "plt.ylabel(\"Logaritmus of $g$\")\n",
    "\n",
    "plt.gca().invert_xaxis();\n",
    "plt.gca().invert_yaxis();\n",
    "plt.xlim([3.95, 3.52]);\n",
    "plt.ylim([5.15,-0.42]);\n",
    "\n",
    "for i, plan in enumerate(grouped.groups):\n",
    "    index = grouped.groups[plan]\n",
    "    group = data.iloc[index]\n",
    "    plt.scatter(group[\"teff\"],\n",
    "                group[\"logg\"],\n",
    "                c=group[\"feh\"],\n",
    "                s=2, alpha=0.2,\n",
    "                vmin=-2.5, vmax=1);\n",
    "    fln = f\"pattern/{i:05d}--{plan}.png\"\n",
    "    if i == 0: plt.colorbar().ax.set_ylabel(\"Fe/H\");\n",
    "    plt.savefig(fln, bbox_inches=\"tight\", pad_inches=0.5);\n",
    "    prog.value = i;\n",
    "    \n",
    "plt.close(1);\n",
    "```"
   ]
  },
  {
   "cell_type": "markdown",
   "metadata": {},
   "source": [
    "```python\n",
    "imag = glob.glob(\"pattern/*.png\")\n",
    "prog = IntProgress(max=len(images))\n",
    "display(prog)\n",
    "for i, mag in enumerate(imag):\n",
    "    img = Image.open(mag)\n",
    "    new = img.crop((7, 8, 1927, 1088))\n",
    "    new.save(mag)\n",
    "    prog.value = i\n",
    "```"
   ]
  },
  {
   "cell_type": "code",
   "execution_count": null,
   "metadata": {},
   "outputs": [],
   "source": []
  }
 ],
 "metadata": {
  "kernelspec": {
   "display_name": "Python 3",
   "language": "python",
   "name": "python3"
  },
  "language_info": {
   "codemirror_mode": {
    "name": "ipython",
    "version": 3
   },
   "file_extension": ".py",
   "mimetype": "text/x-python",
   "name": "python",
   "nbconvert_exporter": "python",
   "pygments_lexer": "ipython3",
   "version": "3.7.3"
  }
 },
 "nbformat": 4,
 "nbformat_minor": 2
}
