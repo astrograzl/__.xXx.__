{
 "cells": [
  {
   "cell_type": "code",
   "execution_count": 1,
   "metadata": {
    "collapsed": true
   },
   "outputs": [],
   "source": [
    "import os\n",
    "import sys\n",
    "import glob\n",
    "import random"
   ]
  },
  {
   "cell_type": "code",
   "execution_count": 2,
   "metadata": {},
   "outputs": [],
   "source": [
    "ligh = sorted(glob.glob(\"ASAS-ligh/*.png\"))\n",
    "peri = sorted(glob.glob(\"ASAS-peri/*.png\"))\n",
    "spec = sorted(glob.glob(\"ASAS-spec/*.png\"))\n",
    "assert len(ligh) == len(peri)\n",
    "assert len(spec) == len(ligh)\n",
    "assert len(spec) == len(peri)"
   ]
  },
  {
   "cell_type": "code",
   "execution_count": 3,
   "metadata": {
    "collapsed": true
   },
   "outputs": [],
   "source": [
    "with open(\"montage.sh\", \"w\") as fwr:\n",
    "    for left, right in zip(ligh, spec):\n",
    "        the_left = os.path.basename(left).rstrip(\".png\")\n",
    "        the_right = os.path.basename(right).rstrip(\".png\")\n",
    "        assert the_left == the_right, \"{} + {} != {}\".format(left, right, the)\n",
    "        the = random.choice([the_left, the_right])\n",
    "        fwr.write(\"montage -mode concatenate -tile 2x1 {} {} ASAS-ligh-spec/{}.png\\n\".format(left, right, the))"
   ]
  },
  {
   "cell_type": "code",
   "execution_count": 4,
   "metadata": {},
   "outputs": [
    {
     "name": "stdout",
     "output_type": "stream",
     "text": [
      "CPU times: user 2 µs, sys: 1 µs, total: 3 µs\n",
      "Wall time: 4.29 µs\n"
     ]
    }
   ],
   "source": [
    "%%time\n",
    "!bash montage.sh"
   ]
  },
  {
   "cell_type": "code",
   "execution_count": 5,
   "metadata": {},
   "outputs": [],
   "source": [
    "dark = sorted(glob.glob(\"ASAS-ligh-spec/*.png\"))\n",
    "assert len(dark) == len(peri)"
   ]
  },
  {
   "cell_type": "code",
   "execution_count": 6,
   "metadata": {
    "collapsed": true
   },
   "outputs": [],
   "source": [
    "with open(\"montage.sh\", \"w\") as fwr:\n",
    "    for top, bot in zip(dark, peri):\n",
    "        the_top = os.path.basename(top).rstrip(\".png\")\n",
    "        the_bot = os.path.basename(bot).rstrip(\".png\")\n",
    "        assert the_top == the_bot, \"{} / {} != {}\".format(top, bot, the)\n",
    "        the = random.choice([the_top, the_bot])\n",
    "        fwr.write(\"gm montage -mode concatenate -tile 1x2 {} {} ASAS-ligh-spec-peri/{}.png\\n\".format(top, bot, the))"
   ]
  },
  {
   "cell_type": "code",
   "execution_count": 7,
   "metadata": {},
   "outputs": [
    {
     "name": "stdout",
     "output_type": "stream",
     "text": [
      "CPU times: user 2 µs, sys: 0 ns, total: 2 µs\n",
      "Wall time: 5.48 µs\n"
     ]
    }
   ],
   "source": [
    "%%time\n",
    "!bash montage.sh"
   ]
  },
  {
   "cell_type": "code",
   "execution_count": 8,
   "metadata": {},
   "outputs": [
    {
     "name": "stdout",
     "output_type": "stream",
     "text": [
      "ffmpeg version 3.3.3 Copyright (c) 2000-2017 the FFmpeg developers\n",
      "  built with gcc 7.1.1 (GCC) 20170630\n",
      "  configuration: --prefix=/usr --disable-debug --disable-static --disable-stripping --enable-avisynth --enable-avresample --enable-fontconfig --enable-gmp --enable-gnutls --enable-gpl --enable-ladspa --enable-libass --enable-libbluray --enable-libfreetype --enable-libfribidi --enable-libgsm --enable-libiec61883 --enable-libmodplug --enable-libmp3lame --enable-libopencore_amrnb --enable-libopencore_amrwb --enable-libopenjpeg --enable-libopus --enable-libpulse --enable-libschroedinger --enable-libsoxr --enable-libspeex --enable-libssh --enable-libtheora --enable-libv4l2 --enable-libvidstab --enable-libvorbis --enable-libvpx --enable-libwebp --enable-libx264 --enable-libx265 --enable-libxcb --enable-libxvid --enable-shared --enable-version3\n",
      "  libavutil      55. 58.100 / 55. 58.100\n",
      "  libavcodec     57. 89.100 / 57. 89.100\n",
      "  libavformat    57. 71.100 / 57. 71.100\n",
      "  libavdevice    57.  6.100 / 57.  6.100\n",
      "  libavfilter     6. 82.100 /  6. 82.100\n",
      "  libavresample   3.  5.  0 /  3.  5.  0\n",
      "  libswscale      4.  6.100 /  4.  6.100\n",
      "  libswresample   2.  7.100 /  2.  7.100\n",
      "  libpostproc    54.  5.100 / 54.  5.100\n",
      "Input #0, image2, from 'ASAS-ligh-spec-peri/*.png':\n",
      "  Duration: 00:01:01.40, start: 0.000000, bitrate: N/A\n",
      "    Stream #0:0: Video: png, rgb48be(pc), 3200x1800, 25 fps, 25 tbr, 25 tbn, 25 tbc\n",
      "Stream mapping:\n",
      "  Stream #0:0 -> #0:0 (png (native) -> h264 (libx264))\n",
      "Press [q] to stop, [?] for help\n",
      "\u001b[0;33mNo pixel format specified, yuv444p for H.264 encoding chosen.\n",
      "Use -pix_fmt yuv420p for compatibility with outdated media players.\n",
      "\u001b[0m\u001b[1;36m[libx264 @ 0xdd9b1b6dc0] \u001b[0musing cpu capabilities: MMX2 SSE2Fast SSSE3 SSE4.2 AVX FMA3 AVX2 LZCNT BMI2\n",
      "\u001b[1;36m[libx264 @ 0xdd9b1b6dc0] \u001b[0mprofile High 4:4:4 Predictive, level 5.1, 4:4:4 8-bit\n",
      "\u001b[1;36m[libx264 @ 0xdd9b1b6dc0] \u001b[0m264 - core 148 r2795 aaa9aa8 - H.264/MPEG-4 AVC codec - Copyleft 2003-2017 - http://www.videolan.org/x264.html - options: cabac=1 ref=8 deblock=1:0:0 analyse=0x3:0x133 me=umh subme=9 psy=1 psy_rd=1.00:0.00 mixed_ref=1 me_range=16 chroma_me=1 trellis=2 8x8dct=1 cqm=0 deadzone=21,11 fast_pskip=1 chroma_qp_offset=4 threads=6 lookahead_threads=1 sliced_threads=0 nr=0 decimate=1 interlaced=0 bluray_compat=0 constrained_intra=0 bframes=3 b_pyramid=2 b_adapt=2 b_bias=0 direct=3 weightb=1 open_gop=0 weightp=2 keyint=250 keyint_min=25 scenecut=40 intra_refresh=0 rc_lookahead=60 rc=crf mbtree=1 crf=23.0 qcomp=0.60 qpmin=0 qpmax=69 qpstep=4 ip_ratio=1.40 aq=1:1.00\n",
      "Output #0, mp4, to 'ASAS.mp4':\n",
      "  Metadata:\n",
      "    encoder         : Lavf57.71.100\n",
      "    Stream #0:0: Video: h264 (libx264) ([33][0][0][0] / 0x0021), yuv444p, 3200x1800, q=-1--1, 30 fps, 15360 tbn, 30 tbc\n",
      "    Metadata:\n",
      "      encoder         : Lavc57.89.100 libx264\n",
      "    Side data:\n",
      "      cpb: bitrate max/min/avg: 0/0/0 buffer size: 0 vbv_delay: -1\n",
      "\u001b[0;33mMore than 1000 frames duplicated8kB time=00:00:47.60 bitrate=12476.9kbits/s dup=1000 drop=0 speed=0.0947x    \n",
      "frame= 4604 fps=3.1 q=-1.0 Lsize=  236774kB time=00:02:33.36 bitrate=12647.2kbits/s dup=3069 drop=0 speed=0.104x        \n",
      "video:236728kB audio:0kB subtitle:0kB other streams:0kB global headers:0kB muxing overhead: 0.019543%\n",
      "\u001b[1;36m[libx264 @ 0xdd9b1b6dc0] \u001b[0mframe I:20    Avg QP:22.05  size:236886\n",
      "\u001b[1;36m[libx264 @ 0xdd9b1b6dc0] \u001b[0mframe P:1517  Avg QP:30.37  size:151227\n",
      "\u001b[1;36m[libx264 @ 0xdd9b1b6dc0] \u001b[0mframe B:3067  Avg QP:29.16  size:  2693\n",
      "\u001b[1;36m[libx264 @ 0xdd9b1b6dc0] \u001b[0mconsecutive B-frames:  0.6%  0.3% 94.6%  4.5%\n",
      "\u001b[1;36m[libx264 @ 0xdd9b1b6dc0] \u001b[0mmb I  I16..4:  7.7% 80.5% 11.8%\n",
      "\u001b[1;36m[libx264 @ 0xdd9b1b6dc0] \u001b[0mmb P  I16..4:  2.7%  4.3%  5.3%  P16..4:  4.8%  2.0%  2.7%  0.9%  0.3%    skip:77.1%\n",
      "\u001b[1;36m[libx264 @ 0xdd9b1b6dc0] \u001b[0mmb B  I16..4:  0.1%  0.0%  0.0%  B16..8:  6.9%  0.2%  0.1%  direct: 0.1%  skip:92.6%  L0:40.3% L1:59.2% BI: 0.6%\n",
      "\u001b[1;36m[libx264 @ 0xdd9b1b6dc0] \u001b[0m8x8 transform intra:38.8% inter:17.4%\n",
      "\u001b[1;36m[libx264 @ 0xdd9b1b6dc0] \u001b[0mdirect mvs  spatial:99.9% temporal:0.1%\n",
      "\u001b[1;36m[libx264 @ 0xdd9b1b6dc0] \u001b[0mcoded y,u,v intra: 33.3% 27.2% 25.7% inter: 1.4% 1.0% 0.9%\n",
      "\u001b[1;36m[libx264 @ 0xdd9b1b6dc0] \u001b[0mi16 v,h,dc,p: 57% 40%  2%  1%\n",
      "\u001b[1;36m[libx264 @ 0xdd9b1b6dc0] \u001b[0mi8 v,h,dc,ddl,ddr,vr,hd,vl,hu: 29% 10% 56%  1%  1%  0%  1%  1%  2%\n",
      "\u001b[1;36m[libx264 @ 0xdd9b1b6dc0] \u001b[0mi4 v,h,dc,ddl,ddr,vr,hd,vl,hu: 48% 13% 14%  3%  4%  4%  4%  4%  6%\n",
      "\u001b[1;36m[libx264 @ 0xdd9b1b6dc0] \u001b[0mWeighted P-Frames: Y:15.0% UV:9.4%\n",
      "\u001b[1;36m[libx264 @ 0xdd9b1b6dc0] \u001b[0mref P L0: 32.0%  1.1%  8.7% 18.6%  8.5% 11.8%  7.1% 10.6%  1.6%\n",
      "\u001b[1;36m[libx264 @ 0xdd9b1b6dc0] \u001b[0mref B L0: 75.6% 14.3%  4.7%  1.6%  1.7%  1.2%  1.0%\n",
      "\u001b[1;36m[libx264 @ 0xdd9b1b6dc0] \u001b[0mref B L1: 99.9%  0.1%\n",
      "\u001b[1;36m[libx264 @ 0xdd9b1b6dc0] \u001b[0mkb/s:12636.43\n"
     ]
    }
   ],
   "source": [
    "!ffmpeg -y -pattern_type glob -r 10 -i \"ASAS-ligh-spec-peri/*.png\" -r 30 -preset slower ASAS.mp4"
   ]
  },
  {
   "cell_type": "code",
   "execution_count": 9,
   "metadata": {},
   "outputs": [
    {
     "name": "stdout",
     "output_type": "stream",
     "text": [
      "Done!\n"
     ]
    }
   ],
   "source": [
    "print(\"Done!\")"
   ]
  }
 ],
 "metadata": {
  "kernelspec": {
   "display_name": "Python 3",
   "language": "python",
   "name": "python3"
  },
  "language_info": {
   "codemirror_mode": {
    "name": "ipython",
    "version": 3
   },
   "file_extension": ".py",
   "mimetype": "text/x-python",
   "name": "python",
   "nbconvert_exporter": "python",
   "pygments_lexer": "ipython3",
   "version": "3.7.3"
  }
 },
 "nbformat": 4,
 "nbformat_minor": 2
}
